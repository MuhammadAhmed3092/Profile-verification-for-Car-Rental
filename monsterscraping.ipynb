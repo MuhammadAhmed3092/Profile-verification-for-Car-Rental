{
  "nbformat": 4,
  "nbformat_minor": 0,
  "metadata": {
    "colab": {
      "provenance": []
    },
    "kernelspec": {
      "name": "python3",
      "display_name": "Python 3"
    },
    "language_info": {
      "name": "python"
    }
  },
  "cells": [
    {
      "cell_type": "code",
      "execution_count": null,
      "metadata": {
        "colab": {
          "base_uri": "https://localhost:8080/"
        },
        "id": "K78wzPYyBQc1",
        "outputId": "bca0dd6d-61e3-45e5-d92a-b4b7fc3bdb15"
      },
      "outputs": [
        {
          "output_type": "stream",
          "name": "stdout",
          "text": [
            "                Username Connections  \\\n",
            "0  0 notifications total         403   \n",
            "\n",
            "                                          Experience  \\\n",
            "0  Experience\\nTechnevity Inc. logo\\nTechnevity I...   \n",
            "\n",
            "                                           Education  \n",
            "0  Education\\nNational University of Computer and...  \n"
          ]
        }
      ],
      "source": [
        "import re\n",
        "import pandas as pd\n",
        "\n",
        "# Step 1: Read the data from the text file\n",
        "with open(\"/content/linkedin_data.txt\", \"r\", encoding=\"utf-8\") as file:\n",
        "    data = file.read()\n",
        "\n",
        "# Step 2: Extract username\n",
        "username = re.search(r\"(.*?)\\n\", data).group(1).strip()\n",
        "\n",
        "# Step 3: Extract number of connections\n",
        "connections = re.search(r\"(\\d+) connections\", data)\n",
        "connections = connections.group(1) if connections else \"Not available\"\n",
        "\n",
        "# Step 4: Extract experience\n",
        "experience_pattern = r\"Experience(.*?)Education\"\n",
        "experience = re.search(experience_pattern, data, re.DOTALL)\n",
        "experience = experience.group(1).strip() if experience else \"Not available\"\n",
        "\n",
        "# Step 5: Extract education\n",
        "education_pattern = r\"Education(.*?)(Skills|Projects|$)\"\n",
        "education = re.search(education_pattern, data, re.DOTALL)\n",
        "education = education.group(1).strip() if education else \"Not available\"\n",
        "\n",
        "# Step 6: Compile the extracted data\n",
        "extracted_data = {\n",
        "    \"Username\": username,\n",
        "    \"Connections\": connections,\n",
        "    \"Experience\": experience,\n",
        "    \"Education\": education\n",
        "}\n",
        "\n",
        "# Step 7: Convert to a DataFrame for better representation\n",
        "df = pd.DataFrame([extracted_data])\n",
        "\n",
        "# Step 8: Save the DataFrame to a CSV file (optional)\n",
        "df.to_csv(\"linkedin_extracted_data.csv\", index=False)\n",
        "\n",
        "# Display the DataFrame\n",
        "print(df)\n"
      ]
    },
    {
      "cell_type": "code",
      "source": [
        "df.head()"
      ],
      "metadata": {
        "colab": {
          "base_uri": "https://localhost:8080/",
          "height": 81
        },
        "id": "3P8CUsyZB_Q5",
        "outputId": "6d31c5cf-5cba-4041-f8c1-9d5aed981aff"
      },
      "execution_count": null,
      "outputs": [
        {
          "output_type": "execute_result",
          "data": {
            "text/plain": [
              "                Username Connections  \\\n",
              "0  0 notifications total         403   \n",
              "\n",
              "                                          Experience  \\\n",
              "0  Experience\\nTechnevity Inc. logo\\nTechnevity I...   \n",
              "\n",
              "                                           Education  \n",
              "0  Education\\nNational University of Computer and...  "
            ],
            "text/html": [
              "\n",
              "  <div id=\"df-3600297f-e89b-4463-bcab-73ed8bac1bc6\" class=\"colab-df-container\">\n",
              "    <div>\n",
              "<style scoped>\n",
              "    .dataframe tbody tr th:only-of-type {\n",
              "        vertical-align: middle;\n",
              "    }\n",
              "\n",
              "    .dataframe tbody tr th {\n",
              "        vertical-align: top;\n",
              "    }\n",
              "\n",
              "    .dataframe thead th {\n",
              "        text-align: right;\n",
              "    }\n",
              "</style>\n",
              "<table border=\"1\" class=\"dataframe\">\n",
              "  <thead>\n",
              "    <tr style=\"text-align: right;\">\n",
              "      <th></th>\n",
              "      <th>Username</th>\n",
              "      <th>Connections</th>\n",
              "      <th>Experience</th>\n",
              "      <th>Education</th>\n",
              "    </tr>\n",
              "  </thead>\n",
              "  <tbody>\n",
              "    <tr>\n",
              "      <th>0</th>\n",
              "      <td>0 notifications total</td>\n",
              "      <td>403</td>\n",
              "      <td>Experience\\nTechnevity Inc. logo\\nTechnevity I...</td>\n",
              "      <td>Education\\nNational University of Computer and...</td>\n",
              "    </tr>\n",
              "  </tbody>\n",
              "</table>\n",
              "</div>\n",
              "    <div class=\"colab-df-buttons\">\n",
              "\n",
              "  <div class=\"colab-df-container\">\n",
              "    <button class=\"colab-df-convert\" onclick=\"convertToInteractive('df-3600297f-e89b-4463-bcab-73ed8bac1bc6')\"\n",
              "            title=\"Convert this dataframe to an interactive table.\"\n",
              "            style=\"display:none;\">\n",
              "\n",
              "  <svg xmlns=\"http://www.w3.org/2000/svg\" height=\"24px\" viewBox=\"0 -960 960 960\">\n",
              "    <path d=\"M120-120v-720h720v720H120Zm60-500h600v-160H180v160Zm220 220h160v-160H400v160Zm0 220h160v-160H400v160ZM180-400h160v-160H180v160Zm440 0h160v-160H620v160ZM180-180h160v-160H180v160Zm440 0h160v-160H620v160Z\"/>\n",
              "  </svg>\n",
              "    </button>\n",
              "\n",
              "  <style>\n",
              "    .colab-df-container {\n",
              "      display:flex;\n",
              "      gap: 12px;\n",
              "    }\n",
              "\n",
              "    .colab-df-convert {\n",
              "      background-color: #E8F0FE;\n",
              "      border: none;\n",
              "      border-radius: 50%;\n",
              "      cursor: pointer;\n",
              "      display: none;\n",
              "      fill: #1967D2;\n",
              "      height: 32px;\n",
              "      padding: 0 0 0 0;\n",
              "      width: 32px;\n",
              "    }\n",
              "\n",
              "    .colab-df-convert:hover {\n",
              "      background-color: #E2EBFA;\n",
              "      box-shadow: 0px 1px 2px rgba(60, 64, 67, 0.3), 0px 1px 3px 1px rgba(60, 64, 67, 0.15);\n",
              "      fill: #174EA6;\n",
              "    }\n",
              "\n",
              "    .colab-df-buttons div {\n",
              "      margin-bottom: 4px;\n",
              "    }\n",
              "\n",
              "    [theme=dark] .colab-df-convert {\n",
              "      background-color: #3B4455;\n",
              "      fill: #D2E3FC;\n",
              "    }\n",
              "\n",
              "    [theme=dark] .colab-df-convert:hover {\n",
              "      background-color: #434B5C;\n",
              "      box-shadow: 0px 1px 3px 1px rgba(0, 0, 0, 0.15);\n",
              "      filter: drop-shadow(0px 1px 2px rgba(0, 0, 0, 0.3));\n",
              "      fill: #FFFFFF;\n",
              "    }\n",
              "  </style>\n",
              "\n",
              "    <script>\n",
              "      const buttonEl =\n",
              "        document.querySelector('#df-3600297f-e89b-4463-bcab-73ed8bac1bc6 button.colab-df-convert');\n",
              "      buttonEl.style.display =\n",
              "        google.colab.kernel.accessAllowed ? 'block' : 'none';\n",
              "\n",
              "      async function convertToInteractive(key) {\n",
              "        const element = document.querySelector('#df-3600297f-e89b-4463-bcab-73ed8bac1bc6');\n",
              "        const dataTable =\n",
              "          await google.colab.kernel.invokeFunction('convertToInteractive',\n",
              "                                                    [key], {});\n",
              "        if (!dataTable) return;\n",
              "\n",
              "        const docLinkHtml = 'Like what you see? Visit the ' +\n",
              "          '<a target=\"_blank\" href=https://colab.research.google.com/notebooks/data_table.ipynb>data table notebook</a>'\n",
              "          + ' to learn more about interactive tables.';\n",
              "        element.innerHTML = '';\n",
              "        dataTable['output_type'] = 'display_data';\n",
              "        await google.colab.output.renderOutput(dataTable, element);\n",
              "        const docLink = document.createElement('div');\n",
              "        docLink.innerHTML = docLinkHtml;\n",
              "        element.appendChild(docLink);\n",
              "      }\n",
              "    </script>\n",
              "  </div>\n",
              "\n",
              "\n",
              "    </div>\n",
              "  </div>\n"
            ],
            "application/vnd.google.colaboratory.intrinsic+json": {
              "type": "dataframe",
              "variable_name": "df",
              "summary": "{\n  \"name\": \"df\",\n  \"rows\": 1,\n  \"fields\": [\n    {\n      \"column\": \"Username\",\n      \"properties\": {\n        \"dtype\": \"string\",\n        \"num_unique_values\": 1,\n        \"samples\": [\n          \"0 notifications total\"\n        ],\n        \"semantic_type\": \"\",\n        \"description\": \"\"\n      }\n    },\n    {\n      \"column\": \"Connections\",\n      \"properties\": {\n        \"dtype\": \"string\",\n        \"num_unique_values\": 1,\n        \"samples\": [\n          \"403\"\n        ],\n        \"semantic_type\": \"\",\n        \"description\": \"\"\n      }\n    },\n    {\n      \"column\": \"Experience\",\n      \"properties\": {\n        \"dtype\": \"string\",\n        \"num_unique_values\": 1,\n        \"samples\": [\n          \"Experience\\nTechnevity Inc. logo\\nTechnevity Inc.\\nTechnevity Inc.\\nFull-time \\u00b7 6 mosFull-time \\u00b7 6 mos\\nRawalpindi, Punjab, Pakistan \\u00b7 On-siteRawalpindi, Punjab, Pakistan \\u00b7 On-site\\nFull-stack Developer\\nFull-stack Developer\\nAug 2024 - Present \\u00b7 4 mosAug 2024 to Present \\u00b7 4 mos\\nAngularJS, .NET Framework and +8 skills\\nQA Engineer\\nQA Engineer\\nJun 2024 - Aug 2024 \\u00b7 3 mosJun 2024 to Aug 2024 \\u00b7 3 mos\\nPerformed designated tasks in 3 sprints from Test to Production for their VST Alert and VST Notify products. Used Azure Devops TFS regularly for bug reporting. Interacted with Dev team regularly through scrums and bug fixing. Wrote 28 Test cases for a sprint. Performed automation testing on their product in the following frameworks:\\n\\u2022 Selenium in Java with TestNG and Extent Reports\\n\\u2022 Selenium in .Net Core with NUnit and Extent Reports\\n\\u2022 Protractor in Node.js with JasminePerformed designated tasks in 3 sprints from Test to Production for their VST Alert and VST Notify products. Used Azure Devops TFS regularly for bug reporting. Interacted with Dev team regularly through scrums and bug fixing. Wrote 28 Test cases for a sprint. Performed automation testing on their product in the following frameworks: \\u2022 Selenium in Java with TestNG and Extent Reports \\u2022 Selenium in .Net Core with NUnit and Extent Reports \\u2022 Protractor in Node.js with Jasmine\\nSelenium, Test Cases and +6 skills\\nstafona logo\\nIntern\\nIntern\\nstafona \\u00b7 Internshipstafona \\u00b7 Internship\\nJul 2022 - Aug 2022 \\u00b7 2 mosJul 2022 to Aug 2022 \\u00b7 2 mos\\nRawalpindi, Punjab, Pakistan \\u00b7 On-siteRawalpindi, Punjab, Pakistan \\u00b7 On-site\\nLearnt and practiced key concepts of OOP and had hands on experience with Springboot framework.Learnt and practiced key concepts of OOP and had hands on experience with Springboot framework.\\nJava, Spring Boot and +1 skill\"\n        ],\n        \"semantic_type\": \"\",\n        \"description\": \"\"\n      }\n    },\n    {\n      \"column\": \"Education\",\n      \"properties\": {\n        \"dtype\": \"string\",\n        \"num_unique_values\": 1,\n        \"samples\": [\n          \"Education\\nNational University of Computer and Emerging Sciences logo\\nNational University of Computer and Emerging Sciences\\nNational University of Computer and Emerging Sciences\\nBachelor of Science - BS, Computer ScienceBachelor of Science - BS, Computer Science\\nSep 2020 - Jun 2024Sep 2020 - Jun 2024\\nC (Programming Language), React.js and +43 skills\\nBenchmark School System\\nBenchmark School System\\nAdvanced Levels, Pre-EngineeringAdvanced Levels, Pre-Engineering\\nSep 2018 - Jun 2020Sep 2018 - Jun 2020\\nGrade: 3 A*s, 1 AGrade: 3 A*s, 1 A\\nStudied Physics, Mathematics, Chemistry, and Computer ScienceStudied Physics, Mathematics, Chemistry, and Computer Science\"\n        ],\n        \"semantic_type\": \"\",\n        \"description\": \"\"\n      }\n    }\n  ]\n}"
            }
          },
          "metadata": {},
          "execution_count": 2
        }
      ]
    },
    {
      "cell_type": "code",
      "source": [
        "import re\n",
        "import pandas as pd\n",
        "\n",
        "# Step 1: Read the data from the text file\n",
        "with open(\"linkedin_data.txt\", \"r\", encoding=\"utf-8\") as file:\n",
        "    data = file.read()\n",
        "\n",
        "# Step 2: Extract number of connections\n",
        "connections_match = re.search(r\"(\\d+)\\s+connections\", data)\n",
        "connections = connections_match.group(1) if connections_match else \"Not available\"\n",
        "\n",
        "# Step 3: Extract username (comes after \"connections\")\n",
        "username_match = re.search(rf\"{connections}\\s+connections\\s+(.*?)\\s+2nd degree connection\", data, re.DOTALL)\n",
        "username = username_match.group(1).strip() if username_match else \"Not available\"\n",
        "\n",
        "# Step 4: Extract experience\n",
        "experience_pattern = r\"Experience(.*?)Education\"\n",
        "experience = re.search(experience_pattern, data, re.DOTALL)\n",
        "experience = experience.group(1).strip() if experience else \"Not available\"\n",
        "\n",
        "# Step 5: Extract education\n",
        "education_pattern = r\"Education(.*?)(Contact info|$)\"\n",
        "education = re.search(education_pattern, data, re.DOTALL)\n",
        "education = education.group(1).strip() if education else \"Not available\"\n",
        "\n",
        "# Step 6: Compile the extracted data\n",
        "extracted_data = {\n",
        "    \"Username\": username,\n",
        "    \"Connections\": connections,\n",
        "    \"Experience\": experience,\n",
        "    \"Education\": education\n",
        "}\n",
        "\n",
        "# Step 7: Convert to a DataFrame for better representation\n",
        "df = pd.DataFrame([extracted_data])\n",
        "\n",
        "# Step 8: Save the DataFrame to a CSV file (optional)\n",
        "df.to_csv(\"linkedin_extracted_data.csv\", index=False)\n",
        "\n",
        "# Display the DataFrame\n",
        "print(df)\n"
      ],
      "metadata": {
        "id": "BNU0jTJOCzU9"
      },
      "execution_count": null,
      "outputs": []
    },
    {
      "cell_type": "code",
      "source": [
        "username_match = re.search(r\"Background Image\\s+(.*?)\\s+(?=2nd degree connection|connections|@|\\n)\", data, re.DOTALL)\n",
        "username = username_match.group(1).strip() if username_match else \"Not available\"\n"
      ],
      "metadata": {
        "id": "YsVvjzseD_u-"
      },
      "execution_count": null,
      "outputs": []
    },
    {
      "cell_type": "code",
      "source": [
        "print(username)"
      ],
      "metadata": {
        "colab": {
          "base_uri": "https://localhost:8080/"
        },
        "id": "koIOzc_EEC8I",
        "outputId": "aace4433-c249-4397-c790-2eaef4286b99"
      },
      "execution_count": null,
      "outputs": [
        {
          "output_type": "stream",
          "name": "stdout",
          "text": [
            "Muhammad Ahmed\n",
            "Muhammad Ahmed\n"
          ]
        }
      ]
    },
    {
      "cell_type": "code",
      "source": [
        "\n",
        "# Step 1: Read the data from the text file\n",
        "with open(\"/content/linkedin_data2.txt\", \"r\", encoding=\"utf-8\") as file:\n",
        "    data2 = file.read()\n",
        "\n",
        "\n",
        "\n"
      ],
      "metadata": {
        "id": "NTVH2zbIEive"
      },
      "execution_count": null,
      "outputs": []
    },
    {
      "cell_type": "code",
      "source": [
        "\n",
        "username_match = re.search(r\"Background Image\\s+(.*?)\\s+(?=2nd degree connection|connections|@|\\n)\", data2, re.DOTALL)\n",
        "username = username_match.group(1).strip() if username_match else \"Not available\"\n",
        "\n",
        "print(username)"
      ],
      "metadata": {
        "colab": {
          "base_uri": "https://localhost:8080/"
        },
        "id": "E2iMRHO8EvNN",
        "outputId": "963d54d3-d799-49bd-ba87-b085013231ac"
      },
      "execution_count": null,
      "outputs": [
        {
          "output_type": "stream",
          "name": "stdout",
          "text": [
            "Not available\n"
          ]
        }
      ]
    },
    {
      "cell_type": "code",
      "source": [
        "username_match = re.search(\n",
        "    r\"(?:Background Image|For Business|Try Premium now)\\s+(.*?)(?:\\s+2nd degree connection|\\s+3rd degree connection|\\s+connections|\\n)\",\n",
        "    data2,\n",
        "    re.DOTALL,\n",
        ")\n",
        "username = username_match.group(1).strip() if username_match else \"Not available\"\n",
        "print(username)\n"
      ],
      "metadata": {
        "colab": {
          "base_uri": "https://localhost:8080/"
        },
        "id": "Zw8JHrMgGAI9",
        "outputId": "7e068e7c-c2fb-4455-b7a1-74b2cb59fc8f"
      },
      "execution_count": null,
      "outputs": [
        {
          "output_type": "stream",
          "name": "stdout",
          "text": [
            "Try Premium now\n"
          ]
        }
      ]
    },
    {
      "cell_type": "code",
      "source": [
        "username_match = re.search(\n",
        "    r\"(?:Background Image|For Business|Try Premium now)\\s+([^\\n]+)\",\n",
        "    data2\n",
        ")\n",
        "\n",
        "# Extract username if matched\n",
        "username = username_match.group(1).strip() if username_match else \"Not available\"\n",
        "\n",
        "print(username)"
      ],
      "metadata": {
        "colab": {
          "base_uri": "https://localhost:8080/"
        },
        "id": "RA1CxI7bGrxI",
        "outputId": "94cee167-d565-4309-a16f-ba01a57b905f"
      },
      "execution_count": null,
      "outputs": [
        {
          "output_type": "stream",
          "name": "stdout",
          "text": [
            "Try Premium now\n"
          ]
        }
      ]
    },
    {
      "cell_type": "code",
      "source": [
        "print(username_match)"
      ],
      "metadata": {
        "colab": {
          "base_uri": "https://localhost:8080/"
        },
        "id": "b6pjX26cHPTy",
        "outputId": "55b68d82-1d4d-42a7-ed3a-e470df82f67f"
      },
      "execution_count": null,
      "outputs": [
        {
          "output_type": "stream",
          "name": "stdout",
          "text": [
            "<re.Match object; span=(225, 253), match='For Business\\nTry Premium now'>\n"
          ]
        }
      ]
    },
    {
      "cell_type": "code",
      "source": [
        "username_match = re.search(\n",
        "    r\"(?:Background Image|For Business|Try Premium now)\\s*([^\\n]+)\", data2\n",
        ")\n",
        "\n",
        "# Extract username if matched\n",
        "username = username_match.group(1).strip() if username_match else \"Not available\"\n",
        "\n",
        "\n",
        "print(username)"
      ],
      "metadata": {
        "colab": {
          "base_uri": "https://localhost:8080/"
        },
        "id": "1f9SDpEFHhAj",
        "outputId": "7452fab4-08ef-43f0-d4cd-e133a8f168ef"
      },
      "execution_count": null,
      "outputs": [
        {
          "output_type": "stream",
          "name": "stdout",
          "text": [
            "Try Premium now\n"
          ]
        }
      ]
    },
    {
      "cell_type": "code",
      "source": [
        "print(username_match)"
      ],
      "metadata": {
        "colab": {
          "base_uri": "https://localhost:8080/"
        },
        "id": "CmgfbxuAHmt6",
        "outputId": "51df5219-6d14-4793-8e38-f771a04eb5aa"
      },
      "execution_count": null,
      "outputs": [
        {
          "output_type": "stream",
          "name": "stdout",
          "text": [
            "<re.Match object; span=(225, 253), match='For Business\\nTry Premium now'>\n"
          ]
        }
      ]
    },
    {
      "cell_type": "code",
      "source": [
        "username_match = re.search(\n",
        "    r\"(?:Background Image|For Business|Try Premium now)\\n([^\\n]+)\", data2\n",
        ")\n",
        "\n",
        "# Extract username if matched\n",
        "username = username_match.group(1).strip() if username_match else \"Not available\"\n",
        "\n",
        "print(username)"
      ],
      "metadata": {
        "colab": {
          "base_uri": "https://localhost:8080/"
        },
        "id": "GVA2gSG4H52J",
        "outputId": "e06bfe90-284e-4154-cdae-4f9ddeb8ade5"
      },
      "execution_count": null,
      "outputs": [
        {
          "output_type": "stream",
          "name": "stdout",
          "text": [
            "Try Premium now\n"
          ]
        }
      ]
    },
    {
      "cell_type": "code",
      "source": [
        "print(data2)"
      ],
      "metadata": {
        "colab": {
          "base_uri": "https://localhost:8080/"
        },
        "id": "ZmfrPh0qIaRz",
        "outputId": "563a4ff6-d2da-423b-debb-fc2c6045273b"
      },
      "execution_count": null,
      "outputs": [
        {
          "output_type": "stream",
          "name": "stdout",
          "text": [
            "0 notifications total\n",
            "\n",
            "Skip to search\n",
            "\n",
            "Skip to main content\n",
            "\n",
            "Keyboard shortcuts\n",
            "Close jump menu\n",
            "Search\n",
            "new feed updates notifications\n",
            "Home\n",
            "My Network\n",
            "Jobs\n",
            "Messaging\n",
            "23\n",
            "23 new notifications\n",
            "Notifications\n",
            "Nizamudin Qureshi\n",
            "Me\n",
            "\n",
            "For Business\n",
            "Try Premium now\n",
            "Adil Sheraz\n",
            "Adil Sheraz\n",
            "  3rd degree connection3rd\n",
            "Country Director\n",
            "\n",
            "CARE\n",
            "\n",
            "Iqra University\n",
            "Pakistan  Contact info\n",
            "500+ connections\n",
            "\n",
            "Message\n",
            "\n",
            "Connect\n",
            "\n",
            "More\n",
            "AboutAbout\n",
            "Key Expertise:\n",
            "Donor Liaison, Representation, Grant management, Fund raising, Program Planning & Management: Designed, developed and managed multi-million projects related to emergency assistance; IDPs, Health, HIV, Agriculture, Livelihood, WASH, Peace building & Governance, USAID title II , and Education programs in conflict sensitive areas. \n",
            "\n",
            "Proposal Development and grant management:\n",
            "Experienced in proposal development and grants management from multi and bi-lateral donors, including USAID, OFDA, UNHCR, UNICEF, EC, DFID, CIDA, Global Fund, BPRM and other key donors\n",
            "\n",
            "Financial Management: Experience in budget development and management of key donors ensuring grant management and donor financial policies. Managed budgets for value 2 million to 10 million USD per annum. \n",
            "\n",
            "Specialties and key skills: Program Design and Management; Fund raising; Proposal Development; Donor relationship and budgeting; Grant Management; Leadership, management and team building; expertise in humanitarian response and development programs; Education; IDPs; Livelihood; Agriculture; DRR; WASH; Governance; Peace building; Health; HIV; Policy formulation, Monitoring & Evaluation; Report Writing.Key Expertise: Donor Liaison, Representation, Grant management, Fund raising, Program Planning & Management: Designed, developed and managed multi-million projects related to emergency assistance; IDPs, Health, HIV, Agriculture, Livelihood, WASH, Peace building & Governance, USAID title II , and Education programs in conflict sensitive areas. Proposal Development and grant management: Experienced in proposal development and grants management from multi and bi-lateral donors, including USAID, OFDA, UNHCR, UNICEF, EC, DFID, CIDA, Global Fund, BPRM and other key donors Financial Management: Experience in budget development and management of key donors ensuring grant management and donor financial policies. Managed budgets for value 2 million to 10 million USD per annum. Specialties and key skills: Program Design and Management; Fund raising; Proposal Development; Donor relationship and budgeting; Grant Management; Leadership, management and team building; expertise in humanitarian response and development programs; Education; IDPs; Livelihood; Agriculture; DRR; WASH; Governance; Peace building; Health; HIV; Policy formulation, Monitoring & Evaluation; Report Writing.…see more\n",
            "ActivityActivity\n",
            "1,090 followers1,090 followers\n",
            "\n",
            "\n",
            "Posts\n",
            "\n",
            "Comments\n",
            "\n",
            "Images\n",
            "Loaded 3 Posts posts\n",
            "Adil Sheraz posted this • 2mo2mo\n",
            "I was honoured to be a guest speaker at the 6th Islamabad Expo, jointly organized by the Islamabad Women Chamber of Commerce and Industry (IWCCI) and the Islamabad Chamber of Commerce and Industry (ICCI), with support from CARE Pakistan. This event brings together thought leaders, industry experts, policymakers, and innovators to discuss and promote key issues driving social and economic progress for women businesses in Pakistan. The expo took place on September 14th and 15th, 2024, at the Pak-China Friendship Centre in Islamabad. As a panel member, I thoroughly enjoyed the insightful discussions on Financial Inclusion for Women: Digital Solutions and Opportunities. The panel featured a group of intellectual individuals working on women's economic empowerment in Pakistan, who shared valuable ideas and solutions-based approaches. The expo included stalls of various entrepreneurs showcasing unique products from different regions of Pakistan. I met he most talented women from cities across the country, including Karachi, Multan, Peshawar, Quetta, Gilgit, Faisalabad, Abbottabad, Bahawalpur, Hyderabad, and Sargodha. This initiative is invaluable as we firmly believe that women's contributions are essential to the economic prosperity of Pakistan. #IslamabadExpo #IWCCI #ICCI #CAREPakistan #WomenEntrepreneurship #Pakistan #EconomicEmpowerment #SocialProgress #FinancialInclusion #DigitalSolutions #WomenInBusiness #Entrepreneurship #Innovation #Policymakers #ThoughtLeaders #IndustryExperts\n",
            "No alternative text description for this image\n",
            "I was honoured to be a guest speaker at the 6th Islamabad Expo, jointly organized by the Islamabad Women Chamber of Commerce and Industry (IWCCI) and the Islamabad Chamber of Commerce and Industry (ICCI), with support from CARE Pakistan.\n",
            "\n",
            " \n",
            "\n",
            "This event brings together thought leaders, industry experts, policymakers, and innovators to discuss and promote key issues driving social and economic progress for women businesses in Pakistan. The expo took place on September 14th and 15th, 2024, at the Pak-China Friendship Centre in Islamabad.\n",
            "\n",
            " \n",
            "\n",
            "As a panel member, I thoroughly enjoyed the insightful discussions on Financial Inclusion for Women: Digital Solutions and Opportunities. The panel featured a group of intellectual individuals working on women's economic empowerment in Pakistan, who shared valuable ideas and solutions-based approaches.\n",
            "\n",
            " \n",
            "\n",
            "The expo included stalls of various entrepreneurs showcasing unique products from different regions of Pakistan. I met he most talented women from cities across the country, including Karachi, Multan, Peshawar, Quetta, Gilgit, Faisalabad, Abbottabad, Bahawalpur, Hyderabad, and Sargodha.\n",
            "\n",
            " \n",
            "\n",
            "This initiative is invaluable as we firmly believe that women's contributions are essential to the economic prosperity of Pakistan.\n",
            "\n",
            "hashtag#IslamabadExpo hashtag#IWCCI hashtag#ICCI hashtag#CAREPakistan hashtag#WomenEntrepreneurship hashtag#Pakistan hashtag#EconomicEmpowerment hashtag#SocialProgress hashtag#FinancialInclusion hashtag#DigitalSolutions hashtag#WomenInBusiness hashtag#Entrepreneurship hashtag#Innovation hashtag#Policymakers hashtag#ThoughtLeaders hashtag#IndustryExperts…show more\n",
            "likecelebratelove\n",
            "97\n",
            "3 comments\n",
            "3 reposts\n",
            "Adil Sheraz posted this • 2mo2mo\n",
            "On September 13th, 2024, I had the pleasure of hosting UN Resident Coordinator Mr. Mohamed YAHYA, Head of OCHA, Mr. Carlos GEHA , and Chief of Field Office, Mr. Prem Bahadur Chand, in village Muhammad Khan Phulpoto, District Sujawal, Sindh. They visited to witness the progress of CARE's Success Program, supported by UNICEF. The program's integrated approach to nutrition, WASH, and education has significantly improved the lives of children, adolescents, and women in the region. We showcased the ongoing activities and their remarkable achievements. Mr. Yahya even participated in the nutrition camp, administering nutritional supplements to a malnourished child. It was a meaningful experience to share our work with such esteemed guests. Mohamed YAHYA Carlos GEHA #CAREPakistan #UNICEF #SuccessProgram #CommunityDevelopment #SocialImpact #Pakistan #UNResidentCoordinator #DistrictSujawal #Sindh #HealthandNutrition #WASH #Education #GenderJustice #ChildWelfare #CommunityEngagement #RuralDevelopment\n",
            "No alternative text description for this image\n",
            "On September 13th, 2024, I had the pleasure of hosting UN Resident Coordinator Mr. Mohamed YAHYA, Head of OCHA, Mr. Carlos GEHA , and Chief of Field Office, Mr. Prem Bahadur Chand, in village Muhammad Khan Phulpoto, District Sujawal, Sindh.\n",
            " \n",
            "They visited to witness the progress of CARE's Success Program, supported by UNICEF. The program's integrated approach to nutrition, WASH, and education has significantly improved the lives of children, adolescents, and women in the region. We showcased the ongoing activities and their remarkable achievements.\n",
            " \n",
            "Mr. Yahya even participated in the nutrition camp, administering nutritional supplements to a malnourished child. It was a meaningful experience to share our work with such esteemed guests.\n",
            "\n",
            "Mohamed YAHYA\n",
            "Carlos GEHA \n",
            "\n",
            "hashtag#CAREPakistan hashtag#UNICEF hashtag#SuccessProgram hashtag#CommunityDevelopment hashtag#SocialImpact hashtag#Pakistan hashtag#UNResidentCoordinator hashtag#DistrictSujawal hashtag#Sindh hashtag#HealthandNutrition hashtag#WASH hashtag#Education hashtag#GenderJustice hashtag#ChildWelfare hashtag#CommunityEngagement hashtag#RuralDevelopment…show more\n",
            "likecelebratelove\n",
            "182\n",
            "16 comments\n",
            "2 reposts\n",
            "Adil Sheraz reposted this • 2mo2mo\n",
            "Join the CARE Team! Reporting Officer https://lnkd.in/ew-2xjkK      CARE participates in the Inter-Agency Misconduct Disclosure Scheme. In line with this Scheme, we hereby request information from the candidate’s previous employers about any findings of sexual exploitation, sexual abuse and/or sexual harassment during employment, or incidents under investigation when the candidate left employment. All offers of employment are subject to satisfactory references and appropriate screening checks. By submitting an application, the job applicant confirms his/her understanding of these recruitment procedures.\n",
            "\n",
            "Join the CARE Team!\n",
            " \n",
            "Reporting Officer\n",
            "https://lnkd.in/ew-2xjkK \n",
            " \n",
            "CARE participates in the Inter-Agency Misconduct Disclosure Scheme. In line with this Scheme, we hereby request information from the candidate’s previous employers about any findings of sexual exploitation, sexual abuse and/or sexual harassment during employment, or incidents under investigation when the candidate left employment. All offers of employment are subject to satisfactory references and appropriate screening checks. By submitting an application, the job applicant confirms his/her understanding of these recruitment procedures.…show more\n",
            "likelovesupport\n",
            "61\n",
            "3 comments\n",
            "Show all posts\n",
            "ExperienceExperience\n",
            "CARE logo\n",
            "Country Director\n",
            "Country Director\n",
            "CARE · Full-timeCARE · Full-time\n",
            "Mar 2020 - Present · 4 yrs 9 mosMar 2020 to Present · 4 yrs 9 mos\n",
            "PakistanPakistan\n",
            "Muslim Aid UK logo\n",
            "Country Director\n",
            "Country Director\n",
            "Muslim Aid UKMuslim Aid UK\n",
            "Aug 2018 - Mar 2020 · 1 yr 8 mosAug 2018 to Mar 2020 · 1 yr 8 mos\n",
            "SudanSudan\n",
            "CRS\n",
            "CRS\n",
            "11 yrs 7 mos11 yrs 7 mos\n",
            "Head of office \n",
            "Head of office \n",
            "Aug 2015 - Jul 2018 · 3 yrsAug 2015 to Jul 2018 · 3 yrs\n",
            "DarfurDarfur\n",
            "Resilience Coordinator\n",
            "Resilience Coordinator\n",
            "Sep 2014 - Jul 2015 · 11 mosSep 2014 to Jul 2015 · 11 mos\n",
            "Head of Programs\n",
            "Head of Programs\n",
            "Jan 2014 - Aug 2014 · 8 mosJan 2014 to Aug 2014 · 8 mos\n",
            "Show all 6 experiences\n",
            "EducationEducation\n",
            "Iqra University\n",
            "Iqra University\n",
            "Doctor of Philosophy (PhD), Management ScienceDoctor of Philosophy (PhD), Management Science\n",
            "2010 - 20152010 - 2015\n",
            "Iqra University\n",
            "Iqra University\n",
            "Masters in Business AdministrationMasters in Business Administration\n",
            "2007 - 20082007 - 2008\n",
            "Show all 3 educations\n",
            "SkillsSkills\n",
            "Management\n",
            "Management\n",
            "\n",
            "Endorsed by 1 person in the last 6 monthsEndorsed by 1 person in the last 6 months\n",
            "6 endorsements\n",
            "6 endorsements\n",
            "Performance Management\n",
            "Performance Management\n",
            "\n",
            "Endorsed by 1 person in the last 6 monthsEndorsed by 1 person in the last 6 months\n",
            "6 endorsements\n",
            "6 endorsements\n",
            "Show all 13 skills\n",
            "LanguagesLanguages\n",
            "Arabic\n",
            "Arabic\n",
            "Limited working proficiencyLimited working proficiency\n",
            "Dari\n",
            "Dari\n",
            "Professional working proficiencyProfessional working proficiency\n",
            "Show all 4 languages\n",
            "InterestsInterests\n",
            "Top VoicesTop Voices\n",
            "CompaniesCompanies\n",
            "GroupsGroups\n",
            "NewslettersNewsletters\n",
            "SchoolsSchools\n",
            "Justin Trudeau profile picture\n",
            "Justin Trudeau\n",
            "Justin Trudeau\n",
            "· 3rdThird degree connection\n",
            "Prime Minister of Canada | Premier ministre du CanadaPrime Minister of Canada | Premier ministre du Canada\n",
            "5,497,073 followers5,497,073 followers\n",
            "\n",
            "Follow\n",
            "\n",
            "More profiles for youMore profiles for you\n",
            "Mohamed YAHYA profile picture\n",
            "Mohamed YAHYA\n",
            "Mohamed YAHYA\n",
            "· 3rdThird degree connection\n",
            "United Nations, Resident & Humanitarian Coordinator, Pakistan 🇵🇰United Nations, Resident & Humanitarian Coordinator, Pakistan 🇵🇰\n",
            "\n",
            "Follow\n",
            "Farhan Ahmed Khan profile picture\n",
            "Farhan Ahmed Khan\n",
            "Farhan Ahmed Khan\n",
            "· 3rdThird degree connection\n",
            "Regional Manager - South & West AsiaRegional Manager - South & West Asia\n",
            "\n",
            "Follow\n",
            "Sumera Abbasi profile picture\n",
            "Sumera Abbasi\n",
            "Sumera Abbasi\n",
            "· 2ndSecond degree connection\n",
            "Executive Director ,TiE Islamabad | Australia Awards Scholar | U.S. State Department's IVLP Alum | Entrepreneurship Ecosystem Expert Executive Director ,TiE Islamabad | Australia Awards Scholar | U.S. State Department's IVLP Alum | Entrepreneurship Ecosystem Expert \n",
            "\n",
            "Follow\n",
            "Humaira S. profile picture\n",
            "Humaira S.\n",
            "Humaira S.\n",
            "· 3rdThird degree connection\n",
            "Program Manager @ NSTPProgram Manager @ NSTP\n",
            "\n",
            "Follow\n",
            "Afaq Ahmad profile picture\n",
            "Afaq Ahmad\n",
            "Afaq Ahmad\n",
            "· 3rdThird degree connection\n",
            "Senior Project Manager - CARE International - Co-Chair Floods - START/READY Pakistan.Senior Project Manager - CARE International - Co-Chair Floods - START/READY Pakistan.\n",
            "View profile\n",
            "Show all\n",
            "Explore Premium profilesExplore Premium profiles\n",
            "Syed Muhammad Zaryab profile picture\n",
            "Syed Muhammad Zaryab\n",
            "Syed Muhammad Zaryab\n",
            "· 2ndSecond degree connection\n",
            "Software Engineer @Octdaily | NED'25 | Full Stack Engineer | Huawei Certified Network Engineer | BS-CSIT Undergrad | Next.js | Nest.js | MERN / MEANSoftware Engineer @Octdaily | NED'25 | Full Stack Engineer | Huawei Certified Network Engineer | BS-CSIT Undergrad | Next.js | Nest.js | MERN / MEAN\n",
            "\n",
            "Follow\n",
            "Usama Bin Haider profile picture\n",
            "Usama Bin Haider\n",
            "Usama Bin Haider\n",
            "· 2ndSecond degree connection\n",
            "Co-founder and MD at AskUs Solution | Experienced iOS Mobile and macOS Developer | Swift Expert | iOS | macOS Developer | Swift | Python Develpor | Machine Learning| Technical WriterCo-founder and MD at AskUs Solution | Experienced iOS Mobile and macOS Developer | Swift Expert | iOS | macOS Developer | Swift | Python Develpor | Machine Learning| Technical Writer\n",
            "\n",
            "Connect\n",
            "People you may knowPeople you may know\n",
            "Ansharah Asad profile picture\n",
            "Ansharah Asad\n",
            "Ansharah Asad\n",
            "FAST'26 | BSCSFAST'26 | BSCS\n",
            "\n",
            "Connect\n",
            "Muhammad Haris Jamal profile picture\n",
            "Muhammad Haris Jamal\n",
            "Muhammad Haris Jamal\n",
            "xIntern @Systems Limited | Senior at FAST NUCES | Specializing in LLM/LangChain and NLP | Passionate about All Things AIxIntern @Systems Limited | Senior at FAST NUCES | Specializing in LLM/LangChain and NLP | Passionate about All Things AI\n",
            "\n",
            "Connect\n",
            "Ahsan Khan profile picture\n",
            "Ahsan Khan\n",
            "Ahsan Khan\n",
            "FAST'24 | PM intern @Shispare | XTecno Group InternFAST'24 | PM intern @Shispare | XTecno Group Intern\n",
            "\n",
            "Connect\n",
            "Jahanzaib . profile picture\n",
            "Jahanzaib .\n",
            "Jahanzaib .\n",
            "AI & Machine Learning Specialist | Deep Learning & Neural Networks Engineer|APP DEVELOPER| FLUTTER| DART | PYTHON| ECAT LECTURERAI & Machine Learning Specialist | Deep Learning & Neural Networks Engineer|APP DEVELOPER| FLUTTER| DART | PYTHON| ECAT LECTURER\n",
            "\n",
            "Connect\n",
            "Bilal Ahmed profile picture\n",
            "Bilal Ahmed\n",
            "Bilal Ahmed\n",
            "Senior @ FAST-NUCES | xAI Intern @ SharyngAI | xIT Intern @ Pak-Qatar TakafulSenior @ FAST-NUCES | xAI Intern @ SharyngAI | xIT Intern @ Pak-Qatar Takaful\n",
            "\n",
            "Connect\n",
            "Show all\n",
            "You might likeYou might like\n",
            "Pages for youPages for you\n",
            "\n",
            "BoolMind Pakistan logo\n",
            "BoolMind Pakistan\n",
            "BoolMind Pakistan\n",
            "IT Services and IT ConsultingIT Services and IT Consulting\n",
            "18,200 followers18,200 followers\n",
            "\n",
            "\n",
            "\n",
            "16 connections follow this page\n",
            "\n",
            "Follow\n",
            "FAST NUCES Lahore logo\n",
            "FAST NUCES Lahore\n",
            "FAST NUCES Lahore\n",
            "Education Administration ProgramsEducation Administration Programs\n",
            "11,135 followers11,135 followers\n",
            "\n",
            "\n",
            "\n",
            "36 connections follow this page\n",
            "\n",
            "Follow\n",
            "Show all\n",
            "\n",
            "Nizamudin QureshiStatus is online\n",
            "MessagingYou are on the messaging overlay. Press enter to open the list of conversations.\n",
            "\n",
            "Compose message\n",
            "You are on the messaging overlay. Press enter to open the list of conversations.\n",
            "EarthRenewal.AI picture\n",
            "EarthRenewal.AI\n",
            "\n"
          ]
        }
      ]
    },
    {
      "cell_type": "code",
      "source": [
        "import re\n",
        "import pandas as pd\n",
        "\n",
        "# Step 1: Read the data from the text file\n",
        "with open(\"/content/linkedin_data.txt\", \"r\", encoding=\"utf-8\") as file:\n",
        "    data = file.read()"
      ],
      "metadata": {
        "id": "WZqa2c_RUd5b"
      },
      "execution_count": null,
      "outputs": []
    },
    {
      "cell_type": "code",
      "source": [
        "username_match = re.search(\n",
        "    r\"([^\\n]+)\\s+(?:2nd degree|3rd degree)\", data\n",
        ")\n",
        "\n",
        "# Extract username if matched\n",
        "username = username_match.group(1).strip() if username_match else \"Not available\"\n",
        "print(username)"
      ],
      "metadata": {
        "colab": {
          "base_uri": "https://localhost:8080/"
        },
        "id": "UZ1QFs-hI8ja",
        "outputId": "96615c1e-c630-46b6-85e0-be3f17272b75"
      },
      "execution_count": null,
      "outputs": [
        {
          "output_type": "stream",
          "name": "stdout",
          "text": [
            "Muhammad Ahmed\n"
          ]
        }
      ]
    },
    {
      "cell_type": "code",
      "source": [
        "\n",
        "experience_pattern = r\"Experience(.*?)Education\"\n",
        "experience = re.search(experience_pattern, data, re.DOTALL)\n",
        "experience = experience.group(1).strip() if experience else \"Not available\"\n",
        "print(experience)"
      ],
      "metadata": {
        "colab": {
          "base_uri": "https://localhost:8080/"
        },
        "id": "9R1TSvp5UhDf",
        "outputId": "9cf4f306-ad12-48be-e0fd-b34b138145d4"
      },
      "execution_count": null,
      "outputs": [
        {
          "output_type": "stream",
          "name": "stdout",
          "text": [
            "Experience\n",
            "Technevity Inc. logo\n",
            "Technevity Inc.\n",
            "Technevity Inc.\n",
            "Full-time · 6 mosFull-time · 6 mos\n",
            "Rawalpindi, Punjab, Pakistan · On-siteRawalpindi, Punjab, Pakistan · On-site\n",
            "Full-stack Developer\n",
            "Full-stack Developer\n",
            "Aug 2024 - Present · 4 mosAug 2024 to Present · 4 mos\n",
            "AngularJS, .NET Framework and +8 skills\n",
            "QA Engineer\n",
            "QA Engineer\n",
            "Jun 2024 - Aug 2024 · 3 mosJun 2024 to Aug 2024 · 3 mos\n",
            "Performed designated tasks in 3 sprints from Test to Production for their VST Alert and VST Notify products. Used Azure Devops TFS regularly for bug reporting. Interacted with Dev team regularly through scrums and bug fixing. Wrote 28 Test cases for a sprint. Performed automation testing on their product in the following frameworks:\n",
            "• Selenium in Java with TestNG and Extent Reports\n",
            "• Selenium in .Net Core with NUnit and Extent Reports\n",
            "• Protractor in Node.js with JasminePerformed designated tasks in 3 sprints from Test to Production for their VST Alert and VST Notify products. Used Azure Devops TFS regularly for bug reporting. Interacted with Dev team regularly through scrums and bug fixing. Wrote 28 Test cases for a sprint. Performed automation testing on their product in the following frameworks: • Selenium in Java with TestNG and Extent Reports • Selenium in .Net Core with NUnit and Extent Reports • Protractor in Node.js with Jasmine\n",
            "Selenium, Test Cases and +6 skills\n",
            "stafona logo\n",
            "Intern\n",
            "Intern\n",
            "stafona · Internshipstafona · Internship\n",
            "Jul 2022 - Aug 2022 · 2 mosJul 2022 to Aug 2022 · 2 mos\n",
            "Rawalpindi, Punjab, Pakistan · On-siteRawalpindi, Punjab, Pakistan · On-site\n",
            "Learnt and practiced key concepts of OOP and had hands on experience with Springboot framework.Learnt and practiced key concepts of OOP and had hands on experience with Springboot framework.\n",
            "Java, Spring Boot and +1 skill\n"
          ]
        }
      ]
    },
    {
      "cell_type": "code",
      "source": [
        "import re\n",
        "import pandas as pd\n",
        "\n",
        "# Step 1: Read the data from the text file\n",
        "with open(\"/content/andrew ng.txt\", \"r\", encoding=\"utf-8\") as file:\n",
        "    data3 = file.read()"
      ],
      "metadata": {
        "id": "41ecIPpGVZ2M"
      },
      "execution_count": null,
      "outputs": []
    },
    {
      "cell_type": "code",
      "source": [
        "username_match = re.search(\n",
        "    r\"([^\\n]+)\\s+(?:2nd degree|3rd degree)\", data3\n",
        ")\n",
        "\n",
        "# Extract username if matched\n",
        "username = username_match.group(1).strip() if username_match else \"Not available\"\n",
        "print(username)"
      ],
      "metadata": {
        "colab": {
          "base_uri": "https://localhost:8080/"
        },
        "id": "gEwmQPRAViCp",
        "outputId": "46ad3683-e5a2-4750-e144-3a04ed931ceb"
      },
      "execution_count": null,
      "outputs": [
        {
          "output_type": "stream",
          "name": "stdout",
          "text": [
            "Andrew Ng\n"
          ]
        }
      ]
    },
    {
      "cell_type": "code",
      "source": [
        "\n",
        "experience_pattern = r\"Experience(.*?)Education\"\n",
        "experience = re.search(experience_pattern, data3, re.DOTALL)\n",
        "experience = experience.group(1).strip() if experience else \"Not available\"\n",
        "print(experience)"
      ],
      "metadata": {
        "colab": {
          "base_uri": "https://localhost:8080/"
        },
        "id": "RBAZIls3VoLE",
        "outputId": "c6e55b69-fb5b-4d3e-fb40-cf108a930c73"
      },
      "execution_count": null,
      "outputs": [
        {
          "output_type": "stream",
          "name": "stdout",
          "text": [
            "Experience\n",
            "DeepLearning.AI logo\n",
            "Founder\n",
            "Founder\n",
            "DeepLearning.AIDeepLearning.AI\n",
            "Jun 2017 - Present · 7 yrs 6 mosJun 2017 to Present · 7 yrs 6 mos\n",
            "Palo Alto, California, United StatesPalo Alto, California, United States\n",
            "DeepLearning.AI provides technical training on Generative AI, Machine Learning, Deep Learning, and other topics. We also offer a widely read newsletter, The Batch (thebatch.ai), that covers what matters in AI right now. \n",
            "\n",
            "Our courses are often created with industry-leading AI companies (AWS, Google, OpenAI, etc.), and we offer both short courses that can be completed in an hour, and longer courses and specializations hosted on Coursera that give you a solid foundation in some aspect of AI. These courses are designed to offer hands-on practice with AI technologies, and you will gain practical, job-ready skills. \n",
            "\n",
            "Whether you are just starting out in AI or seeking to further an existing career, come see if we can help, at http://deeplearning.ai!DeepLearning.AI provides technical training on Generative AI, Machine Learning, Deep Learning, and other topics. We also offer a widely read newsletter, The Batch (thebatch.ai), that covers what matters in AI right now. Our courses are often created with industry-leading AI companies (AWS, Google, OpenAI, etc.), and we offer both short courses that can be completed in an hour, and longer courses and specializations hosted on Coursera that give you a solid foundation in some aspect of AI. These courses are designed to offer hands-on practice with AI technologies, and you will gain practical, job-ready skills. Whether you are just starting out in AI or seeking to further an existing career, come see if we can help, at http://deeplearning.ai!\n",
            "AI Fund logo\n",
            "Managing General Partner\n",
            "Managing General Partner\n",
            "AI FundAI Fund\n",
            "Jan 2018 - Present · 6 yrs 11 mosJan 2018 to Present · 6 yrs 11 mos\n",
            "AI Fund is a venture studio that partners with entrepreneurs to build AI companies that move humanity forward. We don't just provide capital, we actively help build the company: we seek to play at least a minor co-founder role in the companies we engage in. \n",
            "\n",
            "After identifying a concrete startup idea, we actively help the founder validate both customer need and technical feasibility (often collaborating to build a technical prototype), help shape the AI technology roadmap, the go-to-market, and help recruit the key leaders, including the AI engineering team. \n",
            "\n",
            "Because AI is a general purpose technology that can be applied to numerous sectors -- including ones that we at AI Fund don't have expertise in -- we partner with subject matter experts (SMEs) in logistics, healthcare, education, relationships, finance, and other sectors. By leveraging our AI expertise and the SME's expertise in an important application sector, we can build a promising AI business in that sector. \n",
            "\n",
            "We take responsible AI seriously and will, on ethical grounds, choose not to pursue projects that we otherwise assess to be financially sound.AI Fund is a venture studio that partners with entrepreneurs to build AI companies that move humanity forward. We don't just provide capital, we actively help build the company: we seek to play at least a minor co-founder role in the companies we engage in. After identifying a concrete startup idea, we actively help the founder validate both customer need and technical feasibility (often collaborating to build a technical prototype), help shape the AI technology roadmap, the go-to-market, and help recruit the key leaders, including the AI engineering team. Because AI is a general purpose technology that can be applied to numerous sectors -- including ones that we at AI Fund don't have expertise in -- we partner with subject matter experts (SMEs) in logistics, healthcare, education, relationships, finance, and other sectors. By leveraging our AI expertise and the SME's expertise in an important application sector, we can build a promising AI business in that sector. We take responsible AI seriously and will, on ethical grounds, choose not to pursue projects that we otherwise assess to be financially sound.\n",
            "LandingAI logo\n",
            "Executive Chairman (previously CEO) \n",
            "Executive Chairman (previously CEO) \n",
            "LandingAILandingAI\n",
            "Oct 2017 - Present · 7 yrs 2 mosOct 2017 to Present · 7 yrs 2 mos\n",
            "Palo Alto, CaliforniaPalo Alto, California\n",
            "LandingAI delivers cutting-edge Visual AI solutions that empower customers to unlock the value of visual data.\n",
            "\n",
            "Enabled by the transformer neural network (created by the Google Brain team), the Generative AI revolution has arrived in text processing. We see a similar a revolution coming in visual data processing. LandingAI is developing cutting-edge technologies to help customers process visual data in numerous sectors including manufacturing, industrial automation, life sciences, agriculture, geo-spatial imagery, retail, entertainment, and many others. \n",
            "\n",
            "Key technical innovations include our open source VisualAgent, Data-centric AI (the discipline of systematically engineering data to build an AI system), Vision Prompting, and domain-specific Large Vision Models.LandingAI delivers cutting-edge Visual AI solutions that empower customers to unlock the value of visual data. Enabled by the transformer neural network (created by the Google Brain team), the Generative AI revolution has arrived in text processing. We see a similar a revolution coming in visual data processing. LandingAI is developing cutting-edge technologies to help customers process visual data in numerous sectors including manufacturing, industrial automation, life sciences, agriculture, geo-spatial imagery, retail, entertainment, and many others. Key technical innovations include our open source VisualAgent, Data-centric AI (the discipline of systematically engineering data to build an AI system), Vision Prompting, and domain-specific Large Vision Models.\n",
            "Coursera logo\n",
            "Co-Founder and Chairman\n",
            "Co-Founder and Chairman\n",
            "CourseraCoursera\n",
            "Jan 2012 - Present · 12 yrs 11 mosJan 2012 to Present · 12 yrs 11 mos\n",
            "Mountain View, CAMountain View, CA\n",
            "Coursera (NYSE: COUR) envisions a world where anyone, anywhere has the power to transform their lives through learning. Coursera had started with my Machine Learning class and a nascent online education product I had built at Stanford. I served as the company's Co-CEO in the early years with day-to-day responsibility for product, engineering, sales, marketing and operations, and remain Chairman of the company today. Coursera now has over 100M learners, and we partner with more than 275 leading universities and companies to bring flexible, affordable, job-relevant online learning to individuals and organizations. Coursera's offerings include courses, specializations, job-ready professional certificates and degree programs. http://coursera.orgCoursera (NYSE: COUR) envisions a world where anyone, anywhere has the power to transform their lives through learning. Coursera had started with my Machine Learning class and a nascent online education product I had built at Stanford. I served as the company's Co-CEO in the early years with day-to-day responsibility for product, engineering, sales, marketing and operations, and remain Chairman of the company today. Coursera now has over 100M learners, and we partner with more than 275 leading universities and companies to bring flexible, affordable, job-relevant online learning to individuals and organizations. Coursera's offerings include courses, specializations, job-ready professional certificates and degree programs. http://coursera.org\n",
            "Stanford University logo\n",
            "Adjunct Professor of Computer Science\n",
            "Adjunct Professor of Computer Science\n",
            "Stanford UniversityStanford University\n",
            "Sep 2002 - Present · 22 yrs 3 mosSep 2002 to Present · 22 yrs 3 mos\n",
            "I was the Director of the Stanford AI Lab (https://ai.stanford.edu/), home to 20+ faculty members and research groups, and a tenured professor in Stanford's Computer Science department. More recently, I switched to an Adjunct Professor role. \n",
            "\n",
            "My research group's work focused on AI, Deep Learning, Machine Learning and Robotics. Notable projects include early work in Deep Learning (that led to the founding of Google Brain), early work in online education (that led to the founding of Coursera), ROS (a widely used open-source robotics development platform), and work on Reinforcement Learning for robotic control (such as the Stanford autonomous helicopter). More recent efforts include applications of AI to Healthcare and to Climate Change.I was the Director of the Stanford AI Lab (https://ai.stanford.edu/), home to 20+ faculty members and research groups, and a tenured professor in Stanford's Computer Science department. More recently, I switched to an Adjunct Professor role. My research group's work focused on AI, Deep Learning, Machine Learning and Robotics. Notable projects include early work in Deep Learning (that led to the founding of Google Brain), early work in online education (that led to the founding of Coursera), ROS (a widely used open-source robotics development platform), and work on Reinforcement Learning for robotic control (such as the Stanford autonomous helicopter). More recent efforts include applications of AI to Healthcare and to Climate Change.\n",
            "Show all 8 experiences\n"
          ]
        }
      ]
    },
    {
      "cell_type": "code",
      "source": [
        "years_pattern = r\"(\\d+)\\s+yrs\"\n",
        "months_pattern = r\"(\\d+)\\s+mos\"\n",
        "\n",
        "# Extract years and months\n",
        "years = re.findall(years_pattern, experience)\n",
        "months = re.findall(months_pattern, experience)\n",
        "\n",
        "print(years)\n",
        "print(months)"
      ],
      "metadata": {
        "colab": {
          "base_uri": "https://localhost:8080/"
        },
        "id": "lo40wGE6WhfS",
        "outputId": "1ebfe285-ac5b-4aa0-e6b8-4e9352757e14"
      },
      "execution_count": null,
      "outputs": [
        {
          "output_type": "stream",
          "name": "stdout",
          "text": [
            "['7', '7', '6', '6', '7', '7', '12', '12', '22', '22']\n",
            "['6', '6', '11', '11', '2', '2', '11', '11', '3', '3']\n"
          ]
        }
      ]
    },
    {
      "cell_type": "code",
      "source": [
        "\n",
        "experience_pattern = r\"Experience(.*?)Education\"\n",
        "experience = re.search(experience_pattern, data, re.DOTALL)\n",
        "experience = experience.group(1).strip() if experience else \"Not available\"\n",
        "print(experience)"
      ],
      "metadata": {
        "colab": {
          "base_uri": "https://localhost:8080/"
        },
        "id": "EeoXmhSmWuoR",
        "outputId": "3d3b55f6-06f3-4cc1-ffad-3c9ab3534404"
      },
      "execution_count": null,
      "outputs": [
        {
          "output_type": "stream",
          "name": "stdout",
          "text": [
            "Experience\n",
            "Technevity Inc. logo\n",
            "Technevity Inc.\n",
            "Technevity Inc.\n",
            "Full-time · 6 mosFull-time · 6 mos\n",
            "Rawalpindi, Punjab, Pakistan · On-siteRawalpindi, Punjab, Pakistan · On-site\n",
            "Full-stack Developer\n",
            "Full-stack Developer\n",
            "Aug 2024 - Present · 4 mosAug 2024 to Present · 4 mos\n",
            "AngularJS, .NET Framework and +8 skills\n",
            "QA Engineer\n",
            "QA Engineer\n",
            "Jun 2024 - Aug 2024 · 3 mosJun 2024 to Aug 2024 · 3 mos\n",
            "Performed designated tasks in 3 sprints from Test to Production for their VST Alert and VST Notify products. Used Azure Devops TFS regularly for bug reporting. Interacted with Dev team regularly through scrums and bug fixing. Wrote 28 Test cases for a sprint. Performed automation testing on their product in the following frameworks:\n",
            "• Selenium in Java with TestNG and Extent Reports\n",
            "• Selenium in .Net Core with NUnit and Extent Reports\n",
            "• Protractor in Node.js with JasminePerformed designated tasks in 3 sprints from Test to Production for their VST Alert and VST Notify products. Used Azure Devops TFS regularly for bug reporting. Interacted with Dev team regularly through scrums and bug fixing. Wrote 28 Test cases for a sprint. Performed automation testing on their product in the following frameworks: • Selenium in Java with TestNG and Extent Reports • Selenium in .Net Core with NUnit and Extent Reports • Protractor in Node.js with Jasmine\n",
            "Selenium, Test Cases and +6 skills\n",
            "stafona logo\n",
            "Intern\n",
            "Intern\n",
            "stafona · Internshipstafona · Internship\n",
            "Jul 2022 - Aug 2022 · 2 mosJul 2022 to Aug 2022 · 2 mos\n",
            "Rawalpindi, Punjab, Pakistan · On-siteRawalpindi, Punjab, Pakistan · On-site\n",
            "Learnt and practiced key concepts of OOP and had hands on experience with Springboot framework.Learnt and practiced key concepts of OOP and had hands on experience with Springboot framework.\n",
            "Java, Spring Boot and +1 skill\n"
          ]
        }
      ]
    },
    {
      "cell_type": "code",
      "source": [
        "years_pattern = r\"(\\d+)\\s+yrs\"\n",
        "months_pattern = r\"(\\d+)\\s+mos\"\n",
        "\n",
        "# Extract years and months\n",
        "years = re.findall(years_pattern, experience)\n",
        "months = re.findall(months_pattern, experience)\n",
        "\n",
        "print(years)\n",
        "print(months)"
      ],
      "metadata": {
        "colab": {
          "base_uri": "https://localhost:8080/"
        },
        "id": "28CLhJNPXDRn",
        "outputId": "89311b47-4a99-4166-e26e-dac4599340dc"
      },
      "execution_count": null,
      "outputs": [
        {
          "output_type": "stream",
          "name": "stdout",
          "text": [
            "[]\n",
            "['6', '6', '4', '4', '3', '3', '2', '2']\n"
          ]
        }
      ]
    },
    {
      "cell_type": "code",
      "source": [
        "\n",
        "years = list(map(int, years))\n",
        "months = list(map(int, months))\n",
        "\n",
        "# Calculate total experience\n",
        "total_years = sum(years)\n",
        "total_months = sum(months)\n",
        "\n",
        "# Handle months overflow (convert 12 months into 1 year)\n",
        "total_years += total_months // 12\n",
        "total_months = total_months % 12\n",
        "\n",
        "# Print the results\n",
        "print(f\"Years of experience: {years}\")\n",
        "print(f\"Months of experience: {months}\")\n",
        "print(f\"Total Experience: {total_years} years and {total_months} months.\")"
      ],
      "metadata": {
        "colab": {
          "base_uri": "https://localhost:8080/"
        },
        "id": "b8Ghsn1UXauG",
        "outputId": "314e54dc-f9af-4bf6-833b-f36f3442ac8f"
      },
      "execution_count": null,
      "outputs": [
        {
          "output_type": "stream",
          "name": "stdout",
          "text": [
            "Years of experience: []\n",
            "Months of experience: [6, 6, 4, 4, 3, 3, 2, 2]\n",
            "Total Experience: 2 years and 6 months.\n"
          ]
        }
      ]
    },
    {
      "cell_type": "code",
      "source": [
        "\n",
        "# Step 5: Extract education\n",
        "education_pattern = r\"Education(.*?)(Contact info|$)\"\n",
        "education = re.search(education_pattern, data3, re.DOTALL)\n",
        "education = education.group(1).strip() if education else \"Not available\"\n",
        "print(education)"
      ],
      "metadata": {
        "colab": {
          "base_uri": "https://localhost:8080/"
        },
        "id": "WCodL-sxY9jj",
        "outputId": "8e82215c-6ed5-4fba-bbbb-880f7fb1ae6a"
      },
      "execution_count": null,
      "outputs": [
        {
          "output_type": "stream",
          "name": "stdout",
          "text": [
            "Education\n",
            "University of California, Berkeley logo\n",
            "University of California, Berkeley\n",
            "University of California, Berkeley\n",
            "Doctor of Philosophy - PhD, Computer Science Doctor of Philosophy - PhD, Computer Science \n",
            "20032003\n",
            "Massachusetts Institute of Technology logo\n",
            "Massachusetts Institute of Technology\n",
            "Massachusetts Institute of Technology\n",
            "Master of Science - MS, Electrical Engineering and Computer ScienceMaster of Science - MS, Electrical Engineering and Computer Science\n",
            "19981998\n",
            "Show all 3 educations\n",
            "SkillsSkills\n",
            "Education\n",
            "Education\n",
            "\n",
            "Endorsed by 2 colleagues at  DeepLearning.AIEndorsed by 2 colleagues at  DeepLearning.AI\n",
            "13 endorsements\n",
            "13 endorsements\n",
            "Educational Technology\n",
            "Educational Technology\n",
            "\n",
            "Endorsed by 2 colleagues at  DeepLearning.AIEndorsed by 2 colleagues at  DeepLearning.AI\n",
            "51 endorsements\n",
            "51 endorsements\n",
            "Show all 4 skills\n",
            "InterestsInterests\n",
            "Top VoicesTop Voices\n",
            "CompaniesCompanies\n",
            "GroupsGroups\n",
            "SchoolsSchools\n",
            "Allie K. Miller profile picture\n",
            "Allie K. Miller\n",
            "Allie K. Miller\n",
            "· 3rdThird degree connection\n",
            "#1 Most Followed Voice in AI Business (1.5M) | Former Amazon, IBM | Fortune 500 AI and Startup Advisor, Public Speaker | @alliekmiller on Instagram, X, TikTok | AI-First Course with 50K+ students - Link in Bio#1 Most Followed Voice in AI Business (1.5M) | Former Amazon, IBM | Fortune 500 AI and Startup Advisor, Public Speaker | @alliekmiller on Instagram, X, TikTok | AI-First Course with 50K+ students - Link in Bio\n",
            "1,483,975 followers1,483,975 followers\n",
            "\n",
            "Follow\n",
            "Richard Edelman profile picture\n",
            "Richard Edelman\n",
            "Richard Edelman\n",
            "· 3rdThird degree connection\n",
            "President and CEO, EdelmanPresident and CEO, Edelman\n",
            "278,480 followers278,480 followers\n",
            "\n",
            "Follow\n",
            "Show all Top Voices\n",
            "\n",
            "More profiles for youMore profiles for you\n",
            "Ilya Sutskever profile picture\n",
            "Ilya Sutskever\n",
            "Ilya Sutskever\n",
            "· 3rdThird degree connection\n",
            "Co-Founder and Chief Scientist at Safe Superintelligence IncCo-Founder and Chief Scientist at Safe Superintelligence Inc\n",
            "View profile\n",
            "Jensen Huang profile picture\n",
            "Jensen Huang\n",
            "Jensen Huang\n",
            "· 3rdThird degree connection\n",
            "Founder and CEO, NVIDIAFounder and CEO, NVIDIA\n",
            "View profile\n",
            "Ian Goodfellow profile picture\n",
            "Ian Goodfellow\n",
            "Ian Goodfellow\n",
            "· 3rdThird degree connection\n",
            "Research ScientistResearch Scientist\n",
            "View profile\n",
            "Shravan Goli profile picture\n",
            "Shravan Goli\n",
            "Shravan Goli\n",
            "· 3rdThird degree connection\n",
            "CEO, President, General Manager, COO, Investor, Board DirectorCEO, President, General Manager, COO, Investor, Board Director\n",
            "\n",
            "Follow\n",
            "Demis Hassabis profile picture\n",
            "Demis Hassabis\n",
            "Demis Hassabis\n",
            "· 3rdThird degree connection\n",
            "Co-Founder & CEO, Google DeepMindCo-Founder & CEO, Google DeepMind\n",
            "\n",
            "Follow\n",
            "Show all\n",
            "Explore Premium profilesExplore Premium profiles\n",
            "Abdul Rehman profile picture\n",
            "Abdul Rehman\n",
            "Abdul Rehman\n",
            "· 2ndSecond degree connection\n",
            "Student at University of Management and Technology - UMTStudent at University of Management and Technology - UMT\n",
            "\n",
            "Connect\n",
            "Syed Muhammad Zaryab profile picture\n",
            "Syed Muhammad Zaryab\n",
            "Syed Muhammad Zaryab\n",
            "· 2ndSecond degree connection\n",
            "Software Engineer @Octdaily | NED'25 | Full Stack Engineer | Huawei Certified Network Engineer | BS-CSIT Undergrad | Next.js | Nest.js | MERN / MEANSoftware Engineer @Octdaily | NED'25 | Full Stack Engineer | Huawei Certified Network Engineer | BS-CSIT Undergrad | Next.js | Nest.js | MERN / MEAN\n",
            "\n",
            "Follow\n",
            "People you may knowPeople you may know\n",
            "Ansharah Asad profile picture\n",
            "Ansharah Asad\n",
            "Ansharah Asad\n",
            "FAST'26 | BSCSFAST'26 | BSCS\n",
            "\n",
            "Connect\n",
            "Muhammad Haris Jamal profile picture\n",
            "Muhammad Haris Jamal\n",
            "Muhammad Haris Jamal\n",
            "xIntern @Systems Limited | Senior at FAST NUCES | Specializing in LLM/LangChain and NLP | Passionate about All Things AIxIntern @Systems Limited | Senior at FAST NUCES | Specializing in LLM/LangChain and NLP | Passionate about All Things AI\n",
            "\n",
            "Connect\n",
            "Ahsan Khan profile picture\n",
            "Ahsan Khan\n",
            "Ahsan Khan\n",
            "FAST'24 | PM intern @Shispare | XTecno Group InternFAST'24 | PM intern @Shispare | XTecno Group Intern\n",
            "\n",
            "Connect\n",
            "Jahanzaib . profile picture\n",
            "Jahanzaib .\n",
            "Jahanzaib .\n",
            "AI & Machine Learning Specialist | Deep Learning & Neural Networks Engineer|APP DEVELOPER| FLUTTER| DART | PYTHON| ECAT LECTURERAI & Machine Learning Specialist | Deep Learning & Neural Networks Engineer|APP DEVELOPER| FLUTTER| DART | PYTHON| ECAT LECTURER\n",
            "\n",
            "Connect\n",
            "Bilal Ahmed profile picture\n",
            "Bilal Ahmed\n",
            "Bilal Ahmed\n",
            "Senior @ FAST-NUCES | xAI Intern @ SharyngAI | xIT Intern @ Pak-Qatar TakafulSenior @ FAST-NUCES | xAI Intern @ SharyngAI | xIT Intern @ Pak-Qatar Takaful\n",
            "\n",
            "Connect\n",
            "Show all\n",
            "You might likeYou might like\n",
            "Pages for youPages for you\n",
            "\n",
            "LangChain logo\n",
            "LangChain\n",
            "LangChain\n",
            "Technology, Information and InternetTechnology, Information and Internet\n",
            "310,676 followers310,676 followers\n",
            "\n",
            "\n",
            "\n",
            "24 connections follow this page\n",
            "\n",
            "Follow\n",
            "BoolMind Pakistan logo\n",
            "BoolMind Pakistan\n",
            "BoolMind Pakistan\n",
            "IT Services and IT ConsultingIT Services and IT Consulting\n",
            "18,201 followers18,201 followers\n",
            "\n",
            "\n",
            "\n",
            "16 connections follow this page\n",
            "\n",
            "Follow\n",
            "Show all\n",
            "\n",
            "Nizamudin QureshiStatus is online\n",
            "MessagingYou are on the messaging overlay. Press enter to open the list of conversations.\n",
            "\n",
            "Compose message\n",
            "You are on the messaging overlay. Press enter to open the list of conversations.\n",
            "EarthRenewal.AI picture\n",
            "EarthRenewal.AI\n"
          ]
        }
      ]
    },
    {
      "cell_type": "code",
      "source": [
        "priorities = [\"PhD\", \"MS\", \"BS\"]\n",
        "\n",
        "# Step 2: Function to extract the highest-priority degree\n",
        "def extract_highest_priority_degree(data, priorities):\n",
        "    for degree in priorities:\n",
        "        if degree in data:\n",
        "            return degree\n",
        "    return \"None\"\n",
        "\n",
        "# Step 3: Extract the degree\n",
        "highest_degree = extract_highest_priority_degree(education, priorities)\n",
        "print(f\"Highest priority degree: {highest_degree}\")"
      ],
      "metadata": {
        "colab": {
          "base_uri": "https://localhost:8080/"
        },
        "id": "_RPedhnmaZ1D",
        "outputId": "8b840b3b-47ad-4100-e6bb-6c1244fe0db4"
      },
      "execution_count": null,
      "outputs": [
        {
          "output_type": "stream",
          "name": "stdout",
          "text": [
            "Highest priority degree: PhD\n"
          ]
        }
      ]
    },
    {
      "cell_type": "code",
      "source": [
        "#last posted 2d 2mo 2yr\n",
        "#likecelebratelove\n",
        "#97\n",
        "#3 comments\n",
        "#3 reposts\n"
      ],
      "metadata": {
        "id": "gPOaZPJAehsa"
      },
      "execution_count": null,
      "outputs": []
    },
    {
      "cell_type": "code",
      "source": [
        "import requests\n",
        "from bs4 import BeautifulSoup\n",
        "\n",
        "def save_webpage_content(url, output_file=\"output2.txt\"):\n",
        "    try:\n",
        "        # Fetch the webpage content\n",
        "        response = requests.get(url)\n",
        "        response.raise_for_status()  # Raise an error if the request fails\n",
        "\n",
        "        # Parse the webpage content\n",
        "        soup = BeautifulSoup(response.text, \"html.parser\")\n",
        "\n",
        "        # Extract all the visible text from the page\n",
        "        page_text = soup.get_text()\n",
        "\n",
        "        # Write the content to a text file\n",
        "        with open(output_file, \"w\", encoding=\"utf-8\") as file:\n",
        "            file.write(page_text)\n",
        "\n",
        "        print(f\"Content from {url} saved to {output_file}.\")\n",
        "\n",
        "    except requests.exceptions.RequestException as e:\n",
        "        print(f\"Error fetching the webpage: {e}\")\n",
        "\n",
        "# Example Usage\n",
        "url = input(\"Enter the webpage URL: \")\n",
        "save_webpage_content(url)\n"
      ],
      "metadata": {
        "colab": {
          "base_uri": "https://localhost:8080/"
        },
        "id": "Rt12p1X34C2l",
        "outputId": "45b185f6-9475-4e92-c4c6-0f09adf25e5c"
      },
      "execution_count": null,
      "outputs": [
        {
          "output_type": "stream",
          "name": "stdout",
          "text": [
            "Enter the webpage URL: https://www.geeksforgeeks.org/\n",
            "Content from https://www.geeksforgeeks.org/ saved to output2.txt.\n"
          ]
        }
      ]
    },
    {
      "cell_type": "code",
      "source": [
        "import re\n",
        "import pandas as pd\n",
        "\n",
        "# Step 1: Read the data from the text file\n",
        "with open(\"/content/linkedin_data.txt\", \"r\", encoding=\"utf-8\") as file:\n",
        "    file1 = file.read()"
      ],
      "metadata": {
        "id": "dNkjf4VG4bhr"
      },
      "execution_count": null,
      "outputs": []
    },
    {
      "cell_type": "code",
      "source": [
        "with open(\"/content/linkedin_data2.txt\", \"r\", encoding=\"utf-8\") as file:\n",
        "    file2 = file.read()"
      ],
      "metadata": {
        "id": "-n965SxT4znR"
      },
      "execution_count": null,
      "outputs": []
    },
    {
      "cell_type": "code",
      "source": [
        "import re\n",
        "\n",
        "# Your input text\n",
        "text = \"Muhammad Ahmed posted this • 7mo7mo\"\n",
        "\n",
        "# Regex pattern to find numbers followed by 'mo', 'd', or 'yr'\n",
        "pattern = r'(\\d+)(mo|d|yr)'\n",
        "\n",
        "# Search for matches\n",
        "matches = re.findall(pattern,file2)\n",
        "\n",
        "if matches:\n",
        "    # Pick the first match\n",
        "    number, unit = matches[0]\n",
        "    # Convert the unit into full form\n",
        "    if unit == 'mo':\n",
        "        result = f\"{number} months\"\n",
        "    elif unit == 'yr':\n",
        "        result = f\"{number} years\"\n",
        "    elif unit == 'd':\n",
        "        result = f\"{number} days\"\n",
        "    print(\"Result:\", result)\n",
        "else:\n",
        "    print(\"No time units found!\")\n"
      ],
      "metadata": {
        "colab": {
          "base_uri": "https://localhost:8080/"
        },
        "id": "pBeTMiiUNfVn",
        "outputId": "1dcc12fb-60f1-4938-a505-ff047d0ef40a"
      },
      "execution_count": null,
      "outputs": [
        {
          "output_type": "stream",
          "name": "stdout",
          "text": [
            "Result: 2 months\n"
          ]
        }
      ]
    },
    {
      "cell_type": "code",
      "source": [
        "import re\n",
        "\n",
        "# Sample text to extract data from\n",
        "text = \"\"\"<Your input text here>\"\"\"\n",
        "\n",
        "# Regular expression to find likes, comments, and reposts\n",
        "#likes_comments_reposts = re.findall(r'(\\w+)(\\d+)', file2)\n",
        "likes_regex = r'likecelebratelove\\s*(\\d+)\\s*'  # To find likes (specifically after likecelebratelove)\n",
        "comments_regex = r'(\\d+)\\s*comments'  # To find the number of comments\n",
        "reposts_regex = r'(\\d+)\\s*reposts'  # To find the number of reposts\n",
        "\n",
        "# Find matches\n",
        "likes_match = re.search(likes_regex, file1)\n",
        "comments_match = re.search(comments_regex, file1)\n",
        "reposts_match = re.search(reposts_regex, file1)\n",
        "\n",
        "# Extracting values from matches\n",
        "likes = likes_match.group(1) if likes_match else None\n",
        "comments_count = comments_match.group(1) if comments_match else None\n",
        "reposts_count = reposts_match.group(1) if reposts_match else None\n",
        "\n",
        "# Print the extracted values\n",
        "print(f\"Likes: {likes}\")\n",
        "print(f\"Comments: {comments_count}\")\n",
        "print(f\"Reposts: {reposts_count}\")\n"
      ],
      "metadata": {
        "colab": {
          "base_uri": "https://localhost:8080/"
        },
        "id": "85JKj-lVOtnA",
        "outputId": "6dec7968-886f-47fb-8b95-ce5ec7915b1f"
      },
      "execution_count": null,
      "outputs": [
        {
          "output_type": "stream",
          "name": "stdout",
          "text": [
            "Likes: None\n",
            "Comments: 2\n",
            "Reposts: None\n"
          ]
        }
      ]
    },
    {
      "cell_type": "code",
      "source": [
        "# Regular expressions for each part\n",
        "reaction_regex = r'like\\w*\\s*(\\d+)\\s*'  # To find the first \"like\" reaction with a number following it\n",
        "comments_regex = r'(\\d+)\\s*comments'  # To find the number of comments\n",
        "reposts_regex = r'(\\d+)\\s*reposts'  # To find the number of reposts\n",
        "\n",
        "# Find matches\n",
        "reaction_match = re.search(reaction_regex, file1)\n",
        "comments_match = re.search(comments_regex,file1)\n",
        "reposts_match = re.search(reposts_regex, file1)\n",
        "\n",
        "# Extracting values from matches\n",
        "reaction_count = reaction_match.group(1) if reaction_match else None\n",
        "comments_count = comments_match.group(1) if comments_match else None\n",
        "reposts_count = reposts_match.group(1) if reposts_match else None\n",
        "\n",
        "# Print the extracted values\n",
        "print(f\"First Reaction Count: {reaction_count}\")\n",
        "print(f\"Comments: {comments_count}\")\n",
        "print(f\"Reposts: {reposts_count}\")"
      ],
      "metadata": {
        "colab": {
          "base_uri": "https://localhost:8080/"
        },
        "id": "dil7If5vQth5",
        "outputId": "87678a67-3ca4-46f5-906a-6a49fdf80800"
      },
      "execution_count": null,
      "outputs": [
        {
          "output_type": "stream",
          "name": "stdout",
          "text": [
            "First Reaction Count: 12\n",
            "Comments: 2\n",
            "Reposts: None\n"
          ]
        }
      ]
    },
    {
      "cell_type": "code",
      "source": [
        "import re\n",
        "\n",
        "def process_file(file_path):\n",
        "    with open(file_path, 'r') as f:\n",
        "        data = f.read()\n",
        "\n",
        "    # Step 1: Extract username\n",
        "    username_match = re.search(r\"([^\\n]+)\\s+(?:2nd degree|3rd degree)\", data)\n",
        "    username = username_match.group(1).strip() if username_match else \"Not available\"\n",
        "\n",
        "    # Step 2: Extract number of connections\n",
        "    connections_match = re.search(r\"(\\d+)\\s+connections\", data)\n",
        "    connections = connections_match.group(1) if connections_match else \"Not available\"\n",
        "\n",
        "    # Step 3: Extract experience section\n",
        "    experience_pattern = r\"Experience(.*?)Education\"\n",
        "    experience = re.search(experience_pattern, data, re.DOTALL)\n",
        "    experience = experience.group(1).strip() if experience else \"Not available\"\n",
        "\n",
        "    # Step 4: Extract education\n",
        "    education_pattern = r\"Education(.*?)(Contact info|$)\"\n",
        "    education = re.search(education_pattern, data, re.DOTALL)\n",
        "    education = education.group(1).strip() if education else \"Not available\"\n",
        "\n",
        "    # Step 5: Extract years and months of experience\n",
        "    years_pattern = r\"(\\d+)\\s+yrs\"\n",
        "    months_pattern = r\"(\\d+)\\s+mos\"\n",
        "    years = list(map(int, re.findall(years_pattern, experience)))\n",
        "    months = list(map(int, re.findall(months_pattern, experience)))\n",
        "    total_years = sum(years)\n",
        "    total_months = sum(months)\n",
        "    total_years += total_months // 12\n",
        "    total_months %= 12\n",
        "\n",
        "    # Step 6: Extract the highest-priority degree\n",
        "    priorities = [\"PhD\", \"MS\", \"BS\"]\n",
        "    def extract_highest_priority_degree(data, priorities):\n",
        "        for degree in priorities:\n",
        "            if degree in data:\n",
        "                return degree\n",
        "        return \"None\"\n",
        "    highest_degree = extract_highest_priority_degree(education, priorities)\n",
        "\n",
        "    # Step 7: Extract recent post timing\n",
        "    post_pattern = r'(\\d+)(mo|d|yr)'\n",
        "    post_match = re.findall(post_pattern, data)\n",
        "    if post_match:\n",
        "        number, unit = post_match[0]\n",
        "        if unit == 'mo':\n",
        "            recent_post = f\"{number} months\"\n",
        "        elif unit == 'yr':\n",
        "            recent_post = f\"{number} years\"\n",
        "        elif unit == 'd':\n",
        "            recent_post = f\"{number} days\"\n",
        "        else:\n",
        "            recent_post = \"Not available\"\n",
        "    else:\n",
        "        recent_post = \"Not available\"\n",
        "\n",
        "    # Step 8: Extract reactions, comments, and repost counts\n",
        "    reaction_regex = r'like\\w*\\s*(\\d+)\\s*'\n",
        "    comments_regex = r'(\\d+)\\s*comments'\n",
        "    reposts_regex = r'(\\d+)\\s*reposts'\n",
        "    reaction_match = re.search(reaction_regex, data)\n",
        "    comments_match = re.search(comments_regex, data)\n",
        "    reposts_match = re.search(reposts_regex, data)\n",
        "    reactions = reaction_match.group(1) if reaction_match else \"Not available\"\n",
        "    comments = comments_match.group(1) if comments_match else \"Not available\"\n",
        "    reposts = reposts_match.group(1) if reposts_match else \"Not available\"\n",
        "\n",
        "    # Compile all results into a dictionary\n",
        "    results = {\n",
        "        \"Username\": username,\n",
        "        \"Education\": highest_degree,\n",
        "        \"Experience (Years)\": total_years,\n",
        "        \"Experience (Months)\": total_months,\n",
        "        \"Connections\": connections,\n",
        "        \"Recent Post\": recent_post,\n",
        "        \"Reactions on Recent Post\": reactions,\n",
        "        \"Comments on Recent Post\": comments,\n",
        "        \"Repost Count on Recent Post\": reposts,\n",
        "    }\n",
        "\n",
        "    return results\n",
        "\n",
        "# Example usage\n",
        "file_path = \"/content/linkedin_data.txt\"  # Replace with your file path\n",
        "output = process_file(file_path)\n",
        "\n",
        "# Print the results\n",
        "for key, value in output.items():\n",
        "    print(f\"{key}: {value}\")\n"
      ],
      "metadata": {
        "id": "c0350ZFRILof",
        "outputId": "f4aad314-1e01-4de7-9f12-9a5106fcb5b8",
        "colab": {
          "base_uri": "https://localhost:8080/"
        }
      },
      "execution_count": 6,
      "outputs": [
        {
          "output_type": "stream",
          "name": "stdout",
          "text": [
            "Username: Muhammad Ahmed\n",
            "Education: BS\n",
            "Experience (Years): 2\n",
            "Experience (Months): 6\n",
            "Connections: 403\n",
            "Recent Post: 7 months\n",
            "Reactions on Recent Post: 12\n",
            "Comments on Recent Post: 2\n",
            "Repost Count on Recent Post: Not available\n"
          ]
        }
      ]
    }
  ]
}